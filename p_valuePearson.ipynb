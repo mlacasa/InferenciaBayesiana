{
  "nbformat": 4,
  "nbformat_minor": 0,
  "metadata": {
    "colab": {
      "name": "p-valuePearson.ipynb",
      "provenance": [],
      "collapsed_sections": [],
      "authorship_tag": "ABX9TyPeGvNKUQc84Kyi3TLKpl6Q",
      "include_colab_link": true
    },
    "kernelspec": {
      "name": "python3",
      "display_name": "Python 3"
    },
    "language_info": {
      "name": "python"
    }
  },
  "cells": [
    {
      "cell_type": "markdown",
      "metadata": {
        "id": "view-in-github",
        "colab_type": "text"
      },
      "source": [
        "<a href=\"https://colab.research.google.com/github/mlacasa/InferenciaBayesiana/blob/main/p_valuePearson.ipynb\" target=\"_parent\"><img src=\"https://colab.research.google.com/assets/colab-badge.svg\" alt=\"Open In Colab\"/></a>"
      ]
    },
    {
      "cell_type": "code",
      "source": [
        "import numpy as np\n",
        "import seaborn as sns\n",
        "from scipy import stats"
      ],
      "metadata": {
        "id": "zZhsViJfLDk2"
      },
      "execution_count": 1,
      "outputs": []
    },
    {
      "cell_type": "code",
      "execution_count": 2,
      "metadata": {
        "id": "igqpWzE8K-VT"
      },
      "outputs": [],
      "source": [
        "# Creamos una dataset que pase test de normalidad\n",
        "\n",
        "x = np.random.normal(3,3,20)\n",
        "y = [3*x for x in x]"
      ]
    },
    {
      "cell_type": "code",
      "source": [
        "sns.scatterplot(x = x, y = y)"
      ],
      "metadata": {
        "colab": {
          "base_uri": "https://localhost:8080/",
          "height": 283
        },
        "id": "o3SeDRGOLjTs",
        "outputId": "0855b542-bd77-4f3f-c2bf-d9377d5db741"
      },
      "execution_count": 3,
      "outputs": [
        {
          "output_type": "execute_result",
          "data": {
            "text/plain": [
              "<matplotlib.axes._subplots.AxesSubplot at 0x7f4f96bff790>"
            ]
          },
          "metadata": {},
          "execution_count": 3
        },
        {
          "output_type": "display_data",
          "data": {
            "image/png": "[encoded data removed]",
            "text/plain": [
              "<Figure size 432x288 with 1 Axes>"
            ]
          },
          "metadata": {
            "needs_background": "light"
          }
        }
      ]
    },
    {
      "cell_type": "code",
      "source": [
        "# si p-value > 0.05 -> distr normal\n",
        "k2, p = stats.normaltest(y)\n",
        "p"
      ],
      "metadata": {
        "colab": {
          "base_uri": "https://localhost:8080/"
        },
        "id": "cBp4A-18Lyfk",
        "outputId": "89db6c44-45e1-44a4-f8f0-7f1f9806f00c"
      },
      "execution_count": 4,
      "outputs": [
        {
          "output_type": "execute_result",
          "data": {
            "text/plain": [
              "0.5386148546172704"
            ]
          },
          "metadata": {},
          "execution_count": 4
        }
      ]
    },
    {
      "cell_type": "code",
      "source": [
        "k2, p = stats.normaltest(x) # obvio, ya que es distr normal\n",
        "p"
      ],
      "metadata": {
        "colab": {
          "base_uri": "https://localhost:8080/"
        },
        "id": "byUG6XrC2985",
        "outputId": "728ac395-e8dd-4364-ac7b-adc29aec2838"
      },
      "execution_count": 5,
      "outputs": [
        {
          "output_type": "execute_result",
          "data": {
            "text/plain": [
              "0.5386148546172687"
            ]
          },
          "metadata": {},
          "execution_count": 5
        }
      ]
    },
    {
      "cell_type": "code",
      "source": [
        "# Correlación Pearson\n",
        "print('La correlación es: ',stats.pearsonr(x,y)[0], 'y la p-value es: ', stats.pearsonr(x,y)[1])"
      ],
      "metadata": {
        "colab": {
          "base_uri": "https://localhost:8080/"
        },
        "id": "X3QjFy5MMAjU",
        "outputId": "28a35806-e102-489f-f106-53d4cba100fe"
      },
      "execution_count": 6,
      "outputs": [
        {
          "output_type": "stream",
          "name": "stdout",
          "text": [
            "La correlación es:  0.9999999999999998 y la p-value es:  1.2459683851238692e-139\n"
          ]
        }
      ]
    },
    {
      "cell_type": "code",
      "source": [
        "# Se añaden 2 puntos que siguen la proporción pero muy alejados, outliers\n",
        "x=np.append(x,[30,40])\n",
        "y=np.append(y,[90,120])"
      ],
      "metadata": {
        "id": "k-mQrvc3Wo5O"
      },
      "execution_count": 7,
      "outputs": []
    },
    {
      "cell_type": "code",
      "source": [
        "sns.scatterplot(x = x, y = y)"
      ],
      "metadata": {
        "colab": {
          "base_uri": "https://localhost:8080/",
          "height": 283
        },
        "id": "CL57OqNRYXSo",
        "outputId": "1f2e2b7d-c367-4a4d-e99d-1d36cabc80eb"
      },
      "execution_count": 8,
      "outputs": [
        {
          "output_type": "execute_result",
          "data": {
            "text/plain": [
              "<matplotlib.axes._subplots.AxesSubplot at 0x7f4f84021c90>"
            ]
          },
          "metadata": {},
          "execution_count": 8
        },
        {
          "output_type": "display_data",
          "data": {
            "image/png": "[encoded data removed]",
            "text/plain": [
              "<Figure size 432x288 with 1 Axes>"
            ]
          },
          "metadata": {
            "needs_background": "light"
          }
        }
      ]
    },
    {
      "cell_type": "code",
      "source": [
        "# Correlación Pearson\n",
        "print('La correlación es: ',stats.pearsonr(x,y)[0], 'y la p-value es: ', stats.pearsonr(x,y)[1])"
      ],
      "metadata": {
        "colab": {
          "base_uri": "https://localhost:8080/"
        },
        "id": "qyoWiZA-Yds1",
        "outputId": "34e94084-bfc8-4966-f65c-c8d2b457d826"
      },
      "execution_count": 9,
      "outputs": [
        {
          "output_type": "stream",
          "name": "stdout",
          "text": [
            "La correlación es:  1.0 y la p-value es:  0.0\n"
          ]
        }
      ]
    },
    {
      "cell_type": "code",
      "source": [
        "# Añadimos 2 aoutliers\n",
        "y[2] = 250\n",
        "y[4] = 250"
      ],
      "metadata": {
        "id": "eiWPC-rMMq0d"
      },
      "execution_count": 10,
      "outputs": []
    },
    {
      "cell_type": "code",
      "source": [
        "sns.scatterplot(x = x, y = y)"
      ],
      "metadata": {
        "colab": {
          "base_uri": "https://localhost:8080/",
          "height": 283
        },
        "id": "ZniV7niTNrS1",
        "outputId": "4d0d84c0-258f-4517-b027-1f111ef23998"
      },
      "execution_count": 11,
      "outputs": [
        {
          "output_type": "execute_result",
          "data": {
            "text/plain": [
              "<matplotlib.axes._subplots.AxesSubplot at 0x7f4f83b5e410>"
            ]
          },
          "metadata": {},
          "execution_count": 11
        },
        {
          "output_type": "display_data",
          "data": {
            "image/png": "[encoded data removed]",
            "text/plain": [
              "<Figure size 432x288 with 1 Axes>"
            ]
          },
          "metadata": {
            "needs_background": "light"
          }
        }
      ]
    },
    {
      "cell_type": "code",
      "source": [
        "# Correlación Pearson y no seria significativa:\n",
        "print('La correlación es: ',stats.pearsonr(x,y)[0], 'y la p-value es: ', stats.pearsonr(x,y)[1])"
      ],
      "metadata": {
        "colab": {
          "base_uri": "https://localhost:8080/"
        },
        "id": "StRGMdEdNx5N",
        "outputId": "906c1b79-ca48-4613-d2a5-b088a7b3241a"
      },
      "execution_count": 12,
      "outputs": [
        {
          "output_type": "stream",
          "name": "stdout",
          "text": [
            "La correlación es:  0.2775468872413992 y la p-value es:  0.21109215081136154\n"
          ]
        }
      ]
    },
    {
      "cell_type": "code",
      "source": [
        "#Ahora creamos una dataset con 100 registros.\n",
        "x = np.random.normal(3,3,100)\n",
        "y = [3*x for x in x]"
      ],
      "metadata": {
        "id": "jPXMvUG4OXet"
      },
      "execution_count": 13,
      "outputs": []
    },
    {
      "cell_type": "code",
      "source": [
        "sns.scatterplot(x = x, y = y)"
      ],
      "metadata": {
        "colab": {
          "base_uri": "https://localhost:8080/",
          "height": 283
        },
        "id": "rrU78zRt01GG",
        "outputId": "9353c797-9b2c-424b-cf6e-831421f6c55d"
      },
      "execution_count": 14,
      "outputs": [
        {
          "output_type": "execute_result",
          "data": {
            "text/plain": [
              "<matplotlib.axes._subplots.AxesSubplot at 0x7f4f83accc90>"
            ]
          },
          "metadata": {},
          "execution_count": 14
        },
        {
          "output_type": "display_data",
          "data": {
            "image/png": "[encoded data removed]",
            "text/plain": [
              "<Figure size 432x288 with 1 Axes>"
            ]
          },
          "metadata": {
            "needs_background": "light"
          }
        }
      ]
    },
    {
      "cell_type": "code",
      "source": [
        "# Añadimos 2 outliers\n",
        "y[2] = 250\n",
        "y[4] = 250"
      ],
      "metadata": {
        "id": "OTXvmIZj05Pv"
      },
      "execution_count": 15,
      "outputs": []
    },
    {
      "cell_type": "code",
      "source": [
        "sns.scatterplot(x = x, y = y)"
      ],
      "metadata": {
        "colab": {
          "base_uri": "https://localhost:8080/",
          "height": 283
        },
        "id": "fl6qtoHY1VNo",
        "outputId": "bb7be91e-2dbe-4195-9efd-fdb47f68bc1d"
      },
      "execution_count": 16,
      "outputs": [
        {
          "output_type": "execute_result",
          "data": {
            "text/plain": [
              "<matplotlib.axes._subplots.AxesSubplot at 0x7f4f83a3be50>"
            ]
          },
          "metadata": {},
          "execution_count": 16
        },
        {
          "output_type": "display_data",
          "data": {
            "image/png": "[encoded data removed]",
            "text/plain": [
              "<Figure size 432x288 with 1 Axes>"
            ]
          },
          "metadata": {
            "needs_background": "light"
          }
        }
      ]
    },
    {
      "cell_type": "code",
      "source": [
        "# no pasa test de normalidad -> debería ser spearman\n",
        "k2, p = stats.normaltest(y)\n",
        "p"
      ],
      "metadata": {
        "colab": {
          "base_uri": "https://localhost:8080/"
        },
        "id": "g_8xk2b81qlF",
        "outputId": "a2f66703-1b38-4f0a-acad-542d2478645d"
      },
      "execution_count": 17,
      "outputs": [
        {
          "output_type": "execute_result",
          "data": {
            "text/plain": [
              "1.6054457685899082e-35"
            ]
          },
          "metadata": {},
          "execution_count": 17
        }
      ]
    },
    {
      "cell_type": "code",
      "source": [
        "print('La correlación es: ',stats.pearsonr(x,y)[0], 'y la p-value es: ', stats.pearsonr(x,y)[1])"
      ],
      "metadata": {
        "colab": {
          "base_uri": "https://localhost:8080/"
        },
        "id": "Sm0Itc0L1X-O",
        "outputId": "315edc62-dab5-4666-cc3d-70c4c271c1bd"
      },
      "execution_count": 18,
      "outputs": [
        {
          "output_type": "stream",
          "name": "stdout",
          "text": [
            "La correlación es:  0.2953811127615263 y la p-value es:  0.002849275796893397\n"
          ]
        }
      ]
    },
    {
      "cell_type": "code",
      "source": [
        "print('La correlación es: ',stats.spearmanr(x,y)[0], 'y la p-value es: ', stats.spearmanr(x,y)[1])"
      ],
      "metadata": {
        "colab": {
          "base_uri": "https://localhost:8080/"
        },
        "id": "3RN7jTioTR9e",
        "outputId": "aade5868-2593-410c-92d3-5ec533954349"
      },
      "execution_count": 19,
      "outputs": [
        {
          "output_type": "stream",
          "name": "stdout",
          "text": [
            "La correlación es:  0.9750464297866561 y la p-value es:  7.223688618358197e-66\n"
          ]
        }
      ]
    },
    {
      "cell_type": "code",
      "source": [
        "# Añadimos 10 aoutliers\n",
        "for i in range(10,99,10):\n",
        "  y[i] = 250\n"
      ],
      "metadata": {
        "id": "21pmAWiE3RSL"
      },
      "execution_count": 20,
      "outputs": []
    },
    {
      "cell_type": "code",
      "source": [
        "sns.scatterplot(x = x, y = y)"
      ],
      "metadata": {
        "colab": {
          "base_uri": "https://localhost:8080/",
          "height": 283
        },
        "id": "dDeLXJd-3xoo",
        "outputId": "700024fe-8325-4b5c-9387-fc7db689a362"
      },
      "execution_count": 21,
      "outputs": [
        {
          "output_type": "execute_result",
          "data": {
            "text/plain": [
              "<matplotlib.axes._subplots.AxesSubplot at 0x7f4f839a8150>"
            ]
          },
          "metadata": {},
          "execution_count": 21
        },
        {
          "output_type": "display_data",
          "data": {
            "image/png": "[encoded data removed]",
            "text/plain": [
              "<Figure size 432x288 with 1 Axes>"
            ]
          },
          "metadata": {
            "needs_background": "light"
          }
        }
      ]
    },
    {
      "cell_type": "code",
      "source": [
        "print('La correlación es: ',stats.pearsonr(x,y)[0], 'y la p-value es: ', stats.pearsonr(x,y)[1])"
      ],
      "metadata": {
        "colab": {
          "base_uri": "https://localhost:8080/"
        },
        "id": "C6yNn6XQ4BvJ",
        "outputId": "4aeca364-df8e-4dde-ba39-0d24f3169f39"
      },
      "execution_count": 22,
      "outputs": [
        {
          "output_type": "stream",
          "name": "stdout",
          "text": [
            "La correlación es:  0.1185049885246605 y la p-value es:  0.2402772747289328\n"
          ]
        }
      ]
    },
    {
      "cell_type": "code",
      "source": [
        "k2, p = stats.normaltest(y)\n",
        "p"
      ],
      "metadata": {
        "colab": {
          "base_uri": "https://localhost:8080/"
        },
        "id": "uDSwZBgg5FGz",
        "outputId": "cee18751-a0de-4711-b8dd-f64a6fe0be96"
      },
      "execution_count": 23,
      "outputs": [
        {
          "output_type": "execute_result",
          "data": {
            "text/plain": [
              "5.017258486544567e-14"
            ]
          },
          "metadata": {},
          "execution_count": 23
        }
      ]
    },
    {
      "cell_type": "code",
      "source": [
        "print('La correlación es: ',stats.spearmanr(x,y)[0], 'y la p-value es: ', stats.spearmanr(x,y)[1])"
      ],
      "metadata": {
        "colab": {
          "base_uri": "https://localhost:8080/"
        },
        "id": "2qas4VxQ4Fn6",
        "outputId": "f0d16528-674d-4315-9ee4-aa581b9c8d99"
      },
      "execution_count": 24,
      "outputs": [
        {
          "output_type": "stream",
          "name": "stdout",
          "text": [
            "La correlación es:  0.8071696248501605 y la p-value es:  3.651782432127662e-24\n"
          ]
        }
      ]
    }
  ]
}